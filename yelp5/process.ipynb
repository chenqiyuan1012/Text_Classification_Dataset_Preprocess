{
 "cells": [
  {
   "cell_type": "code",
   "execution_count": 6,
   "metadata": {},
   "outputs": [
    {
     "name": "stdout",
     "output_type": "stream",
     "text": [
      "(650000, 2) (50000, 2)\n"
     ]
    }
   ],
   "source": [
    "import pandas as pd\n",
    "train_df=pd.read_csv('../yelp5/train.csv',header=None)\n",
    "test_df=pd.read_csv('../yelp5/test.csv',header=None)\n",
    "train_df.columns=['label','sentence']\n",
    "test_df.columns=['label','sentence']\n",
    "print(train_df.shape,test_df.shape)"
   ]
  },
  {
   "cell_type": "code",
   "execution_count": 4,
   "metadata": {},
   "outputs": [
    {
     "data": {
      "text/plain": [
       "array([5, 2, 4, 1, 3])"
      ]
     },
     "execution_count": 4,
     "metadata": {},
     "output_type": "execute_result"
    }
   ],
   "source": [
    "train_df[0].unique()"
   ]
  }
 ],
 "metadata": {
  "interpreter": {
   "hash": "ffa6c1e872b5415c6924b48e6ccdadfcdb1cd5886387c23bc04cd453a3b713e7"
  },
  "kernelspec": {
   "display_name": "Python 3.8.0 ('uda')",
   "language": "python",
   "name": "python3"
  },
  "language_info": {
   "codemirror_mode": {
    "name": "ipython",
    "version": 3
   },
   "file_extension": ".py",
   "mimetype": "text/x-python",
   "name": "python",
   "nbconvert_exporter": "python",
   "pygments_lexer": "ipython3",
   "version": "3.8.0"
  },
  "orig_nbformat": 4
 },
 "nbformat": 4,
 "nbformat_minor": 2
}
